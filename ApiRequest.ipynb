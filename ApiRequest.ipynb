{
  "cells": [
    {
      "cell_type": "code",
      "execution_count": null,
      "metadata": {
        "id": "N9-g9zDG5tSk"
      },
      "outputs": [],
      "source": [
        "!pip install -q -U google-generativeai"
      ]
    },
    {
      "cell_type": "code",
      "execution_count": null,
      "metadata": {
        "id": "ynY7b90QFMfK"
      },
      "outputs": [],
      "source": [
        "import pathlib\n",
        "import textwrap\n",
        "\n",
        "import google.generativeai as genai\n",
        "\n",
        "# Used to securely store your API key\n",
        "from google.colab import userdata\n",
        "\n",
        "from IPython.display import display\n",
        "from IPython.display import Markdown"
      ]
    },
    {
      "cell_type": "code",
      "execution_count": null,
      "metadata": {
        "id": "zvncgEk-Ffoj"
      },
      "outputs": [],
      "source": [
        "# Or use `os.getenv('GOOGLE_API_KEY')` to fetch an environment variable.\n",
        "GOOGLE_API_KEY=userdata.get('GOOGLE_API_KEY')\n",
        "\n",
        "genai.configure(api_key=GOOGLE_API_KEY)"
      ]
    },
    {
      "cell_type": "code",
      "execution_count": null,
      "metadata": {
        "colab": {
          "base_uri": "https://localhost:8080/",
          "height": 459
        },
        "id": "Drnzg6Z-FO0U",
        "outputId": "d44b098f-db68-4fed-8788-7e3380761f5c"
      },
      "outputs": [
        {
          "output_type": "stream",
          "name": "stdout",
          "text": [
            "models/gemini-1.0-pro-latest\n",
            "models/gemini-1.0-pro\n",
            "models/gemini-pro\n",
            "models/gemini-1.0-pro-001\n",
            "models/gemini-1.0-pro-vision-latest\n",
            "models/gemini-pro-vision\n",
            "models/gemini-1.5-pro-latest\n",
            "models/gemini-1.5-pro-001\n",
            "models/gemini-1.5-pro-002\n",
            "models/gemini-1.5-pro\n",
            "models/gemini-1.5-pro-exp-0801\n",
            "models/gemini-1.5-pro-exp-0827\n",
            "models/gemini-1.5-flash-latest\n",
            "models/gemini-1.5-flash-001\n",
            "models/gemini-1.5-flash-001-tuning\n",
            "models/gemini-1.5-flash\n",
            "models/gemini-1.5-flash-exp-0827\n",
            "models/gemini-1.5-flash-002\n",
            "models/gemini-1.5-flash-8b\n",
            "models/gemini-1.5-flash-8b-001\n",
            "models/gemini-1.5-flash-8b-latest\n",
            "models/gemini-1.5-flash-8b-exp-0827\n",
            "models/gemini-1.5-flash-8b-exp-0924\n",
            "models/learnlm-1.5-pro-experimental\n",
            "models/gemini-exp-1114\n",
            "models/gemini-exp-1121\n"
          ]
        }
      ],
      "source": [
        "for m in genai.list_models():\n",
        "  if 'generateContent' in m.supported_generation_methods:\n",
        "    print(m.name)"
      ]
    },
    {
      "cell_type": "code",
      "execution_count": null,
      "metadata": {
        "id": "a1zJn-OhFfFy"
      },
      "outputs": [],
      "source": [
        "model = genai.GenerativeModel('gemini-pro')"
      ]
    },
    {
      "cell_type": "code",
      "source": [
        "import json\n",
        "\n",
        "def retrieve_and_save_cfg(prompt, model, file_name=\"generated_cfg.json\"):\n",
        "    \"\"\"\n",
        "    Retrieve CFG production rules from a Generative AI tool and save them in JSON format.\n",
        "\n",
        "    Args:\n",
        "        prompt (str): The prompt sent to the Generative AI tool.\n",
        "        model: The generative model object (e.g., from google.generativeai).\n",
        "        file_name (str): The name of the JSON file to save the data.\n",
        "\n",
        "    Returns:\n",
        "        dict: The AI-generated CFG production rules.\n",
        "    \"\"\"\n",
        "    try:\n",
        "        # Generate content using the AI model\n",
        "        response = model.generate_content(prompt)\n",
        "        response_text = response.text.strip()\n",
        "\n",
        "        # Prepare the data for saving\n",
        "        data = {\"prompt\": prompt, \"CFG_rules\": response_text}\n",
        "\n",
        "        # Save to a JSON file\n",
        "        with open(file_name, 'w') as json_file:\n",
        "            json.dump(data, json_file, indent=4)\n",
        "        print(f\"\\nResponse successfully saved to {file_name}\")\n",
        "\n",
        "        print(\"\\nGenerated CFG Production Rules (Readable Format):\\n\")\n",
        "        print(f\"Prompt: {prompt}\")\n",
        "        print(\"\\nCFG Rules:\\n\")\n",
        "        print(response_text)\n",
        "\n",
        "        return data\n",
        "    except Exception as e:\n",
        "        print(f\"Error retrieving or saving data: {e}\")\n",
        "        return None"
      ],
      "metadata": {
        "id": "XSvoVfGgbgSh"
      },
      "execution_count": null,
      "outputs": []
    },
    {
      "cell_type": "code",
      "execution_count": null,
      "metadata": {
        "id": "2a1a49b5"
      },
      "outputs": [],
      "source": [
        "def load_hardcoded_cfg(option):\n",
        "    hardcoded_cfg = {\n",
        "        \"Arithmetic Expressions\": {\n",
        "            \"S\": [\"T\", \"T + S\", \"T - S\"],\n",
        "            \"T\": [\"F\", \"F * T\", \"F / T\"],\n",
        "            \"F\": [\"( S )\", \"number\"]\n",
        "        },\n",
        "        \"Control Structures\": {\n",
        "            \"stmt\": [\"if expr then stmt else stmt\", \"while expr do stmt\", \"assign\"],\n",
        "            \"assign\": [\"identifier = expr\"],\n",
        "            \"expr\": [\"expr && term\", \"expr || term\", \"term\"],\n",
        "            \"term\": [\"!factor\", \"factor\"],\n",
        "            \"factor\": [\"true\", \"false\", \"( expr )\", \"identifier\"]\n",
        "        },\n",
        "        \"Function Definitions and Calls\": {\n",
        "            \"function\": [\"func identifier ( params ) { stmts }\"],\n",
        "            \"params\": [\"identifier\", \"identifier , params\", \"ε\"],\n",
        "            \"stmts\": [\"stmt ; stmts\", \"ε\"],\n",
        "            \"call\": [\"identifier ( args )\"],\n",
        "            \"args\": [\"expr\", \"expr , args\", \"ε\"]\n",
        "        },\n",
        "        \"Assignment Operations\": {\n",
        "            \"assign\": [\"identifier = expr\"],\n",
        "            \"expr\": [\"identifier + identifier\", \"identifier - identifier\", \"number\"],\n",
        "            \"number\": [\"digit number\", \"digit\"],\n",
        "            \"digit\": [\"0\", \"1\", \"2\", \"3\", \"4\", \"5\", \"6\", \"7\", \"8\", \"9\"]\n",
        "        },\n",
        "        \"Boolean Expressions\": {\n",
        "            \"bool_expr\": [\"bool_expr && bool_term\", \"bool_term\"],\n",
        "            \"bool_term\": [\"bool_term || bool_factor\", \"bool_factor\"],\n",
        "            \"bool_factor\": [\"!bool_atom\", \"bool_atom\"],\n",
        "            \"bool_atom\": [\"true\", \"false\", \"( bool_expr )\", \"identifier\"]\n",
        "        },\n",
        "        \"Loop Structures\": {\n",
        "            \"loop\": [\"for ( assign ; expr ; assign ) stmt\"],\n",
        "            \"stmt\": [\"assign ; stmt\", \"if expr then stmt else stmt\", \"while expr do stmt\"],\n",
        "            \"expr\": [\"identifier < identifier\", \"identifier > identifier\"]\n",
        "        },\n",
        "        \"Array Operations\": {\n",
        "            \"array_decl\": [\"type identifier [ number ]\"],\n",
        "            \"array_assign\": [\"identifier [ expr ] = expr\"],\n",
        "            \"expr\": [\"expr + term\", \"term\"],\n",
        "            \"term\": [\"factor * term\", \"factor\"],\n",
        "            \"factor\": [\"number\", \"identifier\"]\n",
        "        },\n",
        "        \"String Operations\": {\n",
        "            \"str_expr\": [\"str_expr + str_term\", \"str_term\"],\n",
        "            \"str_term\": ['\"string_literal\"', \"identifier\"],\n",
        "            \"assign\": [\"identifier = str_expr\"]\n",
        "        },\n",
        "        \"Basic Mathematical Functions\": {\n",
        "            \"expr\": [\"sin ( term )\", \"cos ( term )\", \"log ( term )\", \"term\"],\n",
        "            \"term\": [\"term * factor\", \"term / factor\", \"factor\"],\n",
        "            \"factor\": [\"number\", \"identifier\", \"( expr )\"]\n",
        "        },\n",
        "        \"Conditional Expressions with Ternary Operator\": {\n",
        "            \"ternary_expr\": [\"expr ? expr : expr\"],\n",
        "            \"expr\": [\"identifier < identifier\", \"identifier > identifier\", \"expr + term\", \"term\"],\n",
        "            \"term\": [\"factor * term\", \"factor\"],\n",
        "            \"factor\": [\"number\", \"identifier\"]\n",
        "        }\n",
        "    }\n",
        "    return hardcoded_cfg.get(option, {})"
      ]
    },
    {
      "cell_type": "code",
      "execution_count": null,
      "metadata": {
        "colab": {
          "base_uri": "https://localhost:8080/",
          "height": 394
        },
        "id": "f8PLuPjwFl7M",
        "outputId": "c30dad97-f532-4f5c-b631-263c47b292a9"
      },
      "outputs": [
        {
          "output_type": "stream",
          "name": "stdout",
          "text": [
            "Input: Generate the CFG production rules for Arithmetic Expressions\n",
            "\n",
            "Response successfully saved to arithmetic_expressions.json\n",
            "\n",
            "Generated CFG Production Rules (Readable Format):\n",
            "\n",
            "Prompt: Generate the CFG production rules for Arithmetic Expressions\n",
            "\n",
            "CFG Rules:\n",
            "\n",
            "**Production Rules for Arithmetic Expressions (E):**\n",
            "\n",
            "1. E -> T\n",
            "2. E -> E + T\n",
            "3. E -> E - T\n",
            "4. E -> E * T\n",
            "5. E -> E / T\n",
            "6. T -> n (where n is a numeric literal)\n",
            "7. T -> ( E )\n",
            "Retrieved CFG Production Rules:\n",
            "{'prompt': 'Generate the CFG production rules for Arithmetic Expressions', 'CFG_rules': '**Production Rules for Arithmetic Expressions (E):**\\n\\n1. E -> T\\n2. E -> E + T\\n3. E -> E - T\\n4. E -> E * T\\n5. E -> E / T\\n6. T -> n (where n is a numeric literal)\\n7. T -> ( E )'}\n"
          ]
        }
      ],
      "source": [
        "prompt = input(\"Input: \")\n",
        "cfg_data = retrieve_and_save_cfg(prompt, model, \"arithmetic_expressions.json\")\n",
        "print(\"Retrieved CFG Production Rules:\")\n",
        "print(cfg_data)"
      ]
    },
    {
      "cell_type": "code",
      "source": [
        "from google.colab import files\n",
        "\n",
        "files.download('arithmetic_expressions.json')"
      ],
      "metadata": {
        "colab": {
          "base_uri": "https://localhost:8080/",
          "height": 17
        },
        "id": "Z7NtIFgscjDS",
        "outputId": "5724d350-be49-4e22-a392-beea083cfd30"
      },
      "execution_count": null,
      "outputs": [
        {
          "output_type": "display_data",
          "data": {
            "text/plain": [
              "<IPython.core.display.Javascript object>"
            ],
            "application/javascript": [
              "\n",
              "    async function download(id, filename, size) {\n",
              "      if (!google.colab.kernel.accessAllowed) {\n",
              "        return;\n",
              "      }\n",
              "      const div = document.createElement('div');\n",
              "      const label = document.createElement('label');\n",
              "      label.textContent = `Downloading \"${filename}\": `;\n",
              "      div.appendChild(label);\n",
              "      const progress = document.createElement('progress');\n",
              "      progress.max = size;\n",
              "      div.appendChild(progress);\n",
              "      document.body.appendChild(div);\n",
              "\n",
              "      const buffers = [];\n",
              "      let downloaded = 0;\n",
              "\n",
              "      const channel = await google.colab.kernel.comms.open(id);\n",
              "      // Send a message to notify the kernel that we're ready.\n",
              "      channel.send({})\n",
              "\n",
              "      for await (const message of channel.messages) {\n",
              "        // Send a message to notify the kernel that we're ready.\n",
              "        channel.send({})\n",
              "        if (message.buffers) {\n",
              "          for (const buffer of message.buffers) {\n",
              "            buffers.push(buffer);\n",
              "            downloaded += buffer.byteLength;\n",
              "            progress.value = downloaded;\n",
              "          }\n",
              "        }\n",
              "      }\n",
              "      const blob = new Blob(buffers, {type: 'application/binary'});\n",
              "      const a = document.createElement('a');\n",
              "      a.href = window.URL.createObjectURL(blob);\n",
              "      a.download = filename;\n",
              "      div.appendChild(a);\n",
              "      a.click();\n",
              "      div.remove();\n",
              "    }\n",
              "  "
            ]
          },
          "metadata": {}
        },
        {
          "output_type": "display_data",
          "data": {
            "text/plain": [
              "<IPython.core.display.Javascript object>"
            ],
            "application/javascript": [
              "download(\"download_5809bd7d-97f0-4d03-bbbe-a358d5cd1c36\", \"arithmetic_expressions.json\", 283)"
            ]
          },
          "metadata": {}
        }
      ]
    }
  ],
  "metadata": {
    "colab": {
      "provenance": [],
      "toc_visible": true
    },
    "kernelspec": {
      "display_name": "Python 3",
      "name": "python3"
    },
    "language_info": {
      "name": "python"
    }
  },
  "nbformat": 4,
  "nbformat_minor": 0
}
