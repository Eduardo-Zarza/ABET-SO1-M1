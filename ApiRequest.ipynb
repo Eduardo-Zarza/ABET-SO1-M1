{
  "cells": [
    {
      "cell_type": "code",
      "execution_count": 1,
      "metadata": {
        "id": "N9-g9zDG5tSk"
      },
      "outputs": [],
      "source": [
        "pip install -q -U google-generativeai"
      ]
    },
    {
      "cell_type": "code",
      "execution_count": 2,
      "metadata": {
        "id": "ynY7b90QFMfK"
      },
      "outputs": [],
      "source": [
        "import pathlib\n",
        "import textwrap\n",
        "\n",
        "import google.generativeai as genai\n",
        "\n",
        "# Used to securely store your API key\n",
        "from google.colab import userdata\n",
        "\n",
        "from IPython.display import display\n",
        "from IPython.display import Markdown"
      ]
    },
    {
      "cell_type": "code",
      "execution_count": 3,
      "metadata": {
        "id": "zvncgEk-Ffoj"
      },
      "outputs": [],
      "source": [
        "# Or use `os.getenv('GOOGLE_API_KEY')` to fetch an environment variable.\n",
        "GOOGLE_API_KEY=userdata.get('GOOGLE_API_KEY')\n",
        "\n",
        "genai.configure(api_key=GOOGLE_API_KEY)"
      ]
    },
    {
      "cell_type": "code",
      "execution_count": 4,
      "metadata": {
        "colab": {
          "base_uri": "https://localhost:8080/",
          "height": 459
        },
        "id": "Drnzg6Z-FO0U",
        "outputId": "67ce8e9d-783a-4ab1-9faf-9958a6b62924"
      },
      "outputs": [
        {
          "output_type": "stream",
          "name": "stdout",
          "text": [
            "models/gemini-1.0-pro-latest\n",
            "models/gemini-1.0-pro\n",
            "models/gemini-pro\n",
            "models/gemini-1.0-pro-001\n",
            "models/gemini-1.0-pro-vision-latest\n",
            "models/gemini-pro-vision\n",
            "models/gemini-1.5-pro-latest\n",
            "models/gemini-1.5-pro-001\n",
            "models/gemini-1.5-pro-002\n",
            "models/gemini-1.5-pro\n",
            "models/gemini-1.5-pro-exp-0801\n",
            "models/gemini-1.5-pro-exp-0827\n",
            "models/gemini-1.5-flash-latest\n",
            "models/gemini-1.5-flash-001\n",
            "models/gemini-1.5-flash-001-tuning\n",
            "models/gemini-1.5-flash\n",
            "models/gemini-1.5-flash-exp-0827\n",
            "models/gemini-1.5-flash-002\n",
            "models/gemini-1.5-flash-8b\n",
            "models/gemini-1.5-flash-8b-001\n",
            "models/gemini-1.5-flash-8b-latest\n",
            "models/gemini-1.5-flash-8b-exp-0827\n",
            "models/gemini-1.5-flash-8b-exp-0924\n",
            "models/learnlm-1.5-pro-experimental\n",
            "models/gemini-exp-1114\n",
            "models/gemini-exp-1121\n"
          ]
        }
      ],
      "source": [
        "for m in genai.list_models():\n",
        "  if 'generateContent' in m.supported_generation_methods:\n",
        "    print(m.name)"
      ]
    },
    {
      "cell_type": "code",
      "execution_count": 5,
      "metadata": {
        "id": "a1zJn-OhFfFy"
      },
      "outputs": [],
      "source": [
        "model = genai.GenerativeModel('gemini-pro')"
      ]
    },
    {
      "cell_type": "code",
      "execution_count": 6,
      "metadata": {
        "colab": {
          "base_uri": "https://localhost:8080/",
          "height": 63
        },
        "id": "f8PLuPjwFl7M",
        "outputId": "1fde4e63-c4a2-4d78-e0bd-f36faf04a697"
      },
      "outputs": [
        {
          "name": "stdout",
          "output_type": "stream",
          "text": [
            "Input: Hello\n"
          ]
        },
        {
          "output_type": "execute_result",
          "data": {
            "text/plain": [
              "<IPython.core.display.Markdown object>"
            ],
            "text/markdown": "Hi there! How can I assist you today?"
          },
          "metadata": {},
          "execution_count": 6
        }
      ],
      "source": [
        "prompt = input(\"Input: \")\n",
        "response = model.generate_content(prompt)\n",
        "Markdown(response.text)"
      ]
    },
    {
      "cell_type": "markdown",
      "metadata": {
        "id": "07839d38"
      },
      "source": [
        "# Additional Functions for CFG Validation"
      ]
    },
    {
      "cell_type": "code",
      "execution_count": 13,
      "metadata": {
        "id": "598722aa"
      },
      "outputs": [],
      "source": [
        "\n",
        "import json\n",
        "\n",
        "def save_response_to_json(response_text, file_name):\n",
        "    try:\n",
        "        with open(file_name, 'w') as json_file:\n",
        "            json.dump({\"CFG_rules\": response_text}, json_file, indent=4)\n",
        "        print(f\"Saved response to {file_name}\")\n",
        "    except Exception as e:\n",
        "        print(f\"Error saving response to JSON: {e}\")\n",
        ""
      ]
    },
    {
      "cell_type": "code",
      "execution_count": 12,
      "metadata": {
        "id": "2a1a49b5"
      },
      "outputs": [],
      "source": [
        "def load_hardcoded_cfg(option):\n",
        "    \"\"\"\n",
        "    Load hardcoded CFG rules from the 'Production Options' file.\n",
        "    \"\"\"\n",
        "    hardcoded_cfg = {\n",
        "        \"Arithmetic Expressions\": {\n",
        "            \"S\": [\"T\", \"T + S\", \"T - S\"],\n",
        "            \"T\": [\"F\", \"F * T\", \"F / T\"],\n",
        "            \"F\": [\"( S )\", \"number\"]\n",
        "        },\n",
        "        \"Control Structures\": {\n",
        "            \"stmt\": [\"if expr then stmt else stmt\", \"while expr do stmt\", \"assign\"],\n",
        "            \"assign\": [\"identifier = expr\"],\n",
        "            \"expr\": [\"expr && term\", \"expr || term\", \"term\"],\n",
        "            \"term\": [\"!factor\", \"factor\"],\n",
        "            \"factor\": [\"true\", \"false\", \"( expr )\", \"identifier\"]\n",
        "        },\n",
        "        \"Function Definitions and Calls\": {\n",
        "            \"function\": [\"func identifier ( params ) { stmts }\"],\n",
        "            \"params\": [\"identifier\", \"identifier , params\", \"ε\"],\n",
        "            \"stmts\": [\"stmt ; stmts\", \"ε\"],\n",
        "            \"call\": [\"identifier ( args )\"],\n",
        "            \"args\": [\"expr\", \"expr , args\", \"ε\"]\n",
        "        },\n",
        "        \"Assignment Operations\": {\n",
        "            \"assign\": [\"identifier = expr\"],\n",
        "            \"expr\": [\"identifier + identifier\", \"identifier - identifier\", \"number\"],\n",
        "            \"number\": [\"digit number\", \"digit\"],\n",
        "            \"digit\": [\"0\", \"1\", \"2\", \"3\", \"4\", \"5\", \"6\", \"7\", \"8\", \"9\"]\n",
        "        },\n",
        "        \"Boolean Expressions\": {\n",
        "            \"bool_expr\": [\"bool_expr && bool_term\", \"bool_term\"],\n",
        "            \"bool_term\": [\"bool_term || bool_factor\", \"bool_factor\"],\n",
        "            \"bool_factor\": [\"!bool_atom\", \"bool_atom\"],\n",
        "            \"bool_atom\": [\"true\", \"false\", \"( bool_expr )\", \"identifier\"]\n",
        "        },\n",
        "        \"Loop Structures\": {\n",
        "            \"loop\": [\"for ( assign ; expr ; assign ) stmt\"],\n",
        "            \"stmt\": [\"assign ; stmt\", \"if expr then stmt else stmt\", \"while expr do stmt\"],\n",
        "            \"expr\": [\"identifier < identifier\", \"identifier > identifier\"]\n",
        "        },\n",
        "        \"Array Operations\": {\n",
        "            \"array_decl\": [\"type identifier [ number ]\"],\n",
        "            \"array_assign\": [\"identifier [ expr ] = expr\"],\n",
        "            \"expr\": [\"expr + term\", \"term\"],\n",
        "            \"term\": [\"factor * term\", \"factor\"],\n",
        "            \"factor\": [\"number\", \"identifier\"]\n",
        "        },\n",
        "        \"String Operations\": {\n",
        "            \"str_expr\": [\"str_expr + str_term\", \"str_term\"],\n",
        "            \"str_term\": ['\"string_literal\"', \"identifier\"],\n",
        "            \"assign\": [\"identifier = str_expr\"]\n",
        "        },\n",
        "        \"Basic Mathematical Functions\": {\n",
        "            \"expr\": [\"sin ( term )\", \"cos ( term )\", \"log ( term )\", \"term\"],\n",
        "            \"term\": [\"term * factor\", \"term / factor\", \"factor\"],\n",
        "            \"factor\": [\"number\", \"identifier\", \"( expr )\"]\n",
        "        },\n",
        "        \"Conditional Expressions with Ternary Operator\": {\n",
        "            \"ternary_expr\": [\"expr ? expr : expr\"],\n",
        "            \"expr\": [\"identifier < identifier\", \"identifier > identifier\", \"expr + term\", \"term\"],\n",
        "            \"term\": [\"factor * term\", \"factor\"],\n",
        "            \"factor\": [\"number\", \"identifier\"]\n",
        "        }\n",
        "    }\n",
        "    return hardcoded_cfg.get(option, {})"
      ]
    },
    {
      "cell_type": "code",
      "execution_count": 9,
      "metadata": {
        "id": "66d2d164"
      },
      "outputs": [],
      "source": [
        "\n",
        "def evaluate_generated_vs_hardcoded(generated_cfg, hardcoded_cfg):\n",
        "    \"\"\"\n",
        "    Evaluate AI-generated CFG rules against hardcoded CFG rules.\n",
        "    \"\"\"\n",
        "    discrepancies = []\n",
        "    for key, rules in hardcoded_cfg.items():\n",
        "        if key not in generated_cfg or set(generated_cfg[key]) != set(rules):\n",
        "            discrepancies.append({\n",
        "                \"symbol\": key,\n",
        "                \"generated\": generated_cfg.get(key, []),\n",
        "                \"expected\": rules\n",
        "            })\n",
        "    if not discrepancies:\n",
        "        print(\"All rules match the hardcoded CFG!\")\n",
        "    else:\n",
        "        print(\"Discrepancies found:\")\n",
        "        for discrepancy in discrepancies:\n",
        "            print(f\"Symbol: {discrepancy['symbol']}\")\n",
        "            print(f\"Generated: {discrepancy['generated']}\")\n",
        "            print(f\"Expected: {discrepancy['expected']}\")\n",
        ""
      ]
    },
    {
      "cell_type": "code",
      "execution_count": 10,
      "metadata": {
        "id": "6e55dff7"
      },
      "outputs": [],
      "source": [
        "\n",
        "def test_generated_cfg(cfg_rules, test_cases):\n",
        "    \"\"\"\n",
        "    Test AI-generated CFG rules against code snippets.\n",
        "    \"\"\"\n",
        "    for idx, test_case in enumerate(test_cases, start=1):\n",
        "        print(f\"Testing Case {idx}: {test_case}\")\n",
        "        # Add CFG validation logic for the test_case\n",
        "        # Example: Check if test_case follows the CFG rules\n",
        "        is_valid = True  # Placeholder for validation logic\n",
        "        print(f\"Result: {'Valid' if is_valid else 'Invalid'}\")\n",
        ""
      ]
    }
  ],
  "metadata": {
    "colab": {
      "provenance": []
    },
    "kernelspec": {
      "display_name": "Python 3",
      "name": "python3"
    },
    "language_info": {
      "name": "python"
    }
  },
  "nbformat": 4,
  "nbformat_minor": 0
}